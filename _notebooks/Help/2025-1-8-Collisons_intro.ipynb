{
 "cells": [
  {
   "cell_type": "raw",
   "metadata": {
    "vscode": {
     "languageId": "raw"
    }
   },
   "source": [
    "---\n",
    "layout: post \n",
    "title: Collisons intro\n",
    "description: This is going to be talking about what collisons is and how you can use it game\n",
    "date: 2025-01-05\n",
    "name Srinaga Pillutla\n",
    "---\n"
   ]
  },
  {
   "cell_type": "raw",
   "metadata": {
    "vscode": {
     "languageId": "raw"
    }
   },
   "source": [
    "What is Collisons?\n",
    "Collisions are a way to detect when two objects are touching each other. \n",
    "This can be useful in games to determine when a player has collided with an enemy or a wall. \n",
    "Collisions can also be used to detect when two objects are overlapping, which can be useful for things like picking up items or triggering events."
   ]
  },
  {
   "cell_type": "code",
   "execution_count": null,
   "metadata": {
    "vscode": {
     "languageId": "javascript"
    }
   },
   "outputs": [],
   "source": [
    "if (this.collisionData.touchPoints.other.id === \"jumpPlatform\") {\n",
    "    // Collision with the left side of the Platform\n",
    "    console.log(\"id\")\n",
    "    if (this.collisionData.touchPoints.other.left && (this.topOfPlatform === true)) {\n",
    "        this.movement.right = false;\n",
    "        console.log(\"a\")\n",
    "    }\n",
    "    // Collision with the right side of the platform\n",
    "    if (this.collisionData.touchPoints.other.right && (this.topOfPlatform === true)) {\n",
    "        this.movement.left = false;\n",
    "        console.log(\"b\")\n",
    "    }\n",
    "    // Collision with the top of the player\n",
    "    if (this.collisionData.touchPoints.this.ontop) {\n",
    "        this.gravityEnabled = false;\n",
    "        console.log(\"c\")\n",
    "    }\n",
    "    if (this.collisionData.touchPoints.this.bottom) {\n",
    "        this.gravityEnabled = false;\n",
    "        console.log(\"d\")\n",
    "    }\n",
    "    if (this.collisionData.touchPoints.this.top) {\n",
    "        this.gravityEnabled = false;\n",
    "        this.topOfPlatform = true; \n",
    "        console.log(this.topOfPlatform + \"top\")\n",
    "        console.log(this.gravityEnabled + \"grav\")\n",
    "        //console.log(\"e\");\n",
    "    }\n",
    "}\n"
   ]
  },
  {
   "cell_type": "markdown",
   "metadata": {},
   "source": [
    "The code detects collisions between the player and a platform named \"jumpPlatform\". It handles different types of collisions and updates the player's movement and gravity accordingly. Here's a breakdown of what each part does:\n",
    "\n",
    "1. **Collision with the left side of the platform**:\n",
    "    - If the player collides with the left side of the platform and is on top of the platform, the player's right movement is disabled.\n",
    "\n",
    "2. **Collision with the right side of the platform**:\n",
    "    - If the player collides with the right side of the platform and is on top of the platform, the player's left movement is disabled.\n",
    "\n",
    "3. **Collision with the top of the player**:\n",
    "    - If the platform collides with the top of the player, gravity is disabled.\n",
    "\n",
    "4. **Collision with the bottom of the player**:\n",
    "    - If the platform collides with the bottom of the player, gravity is disabled.\n",
    "\n",
    "5. **Collision with the top of the platform**:\n",
    "    - If the player collides with the top of the platform, gravity is disabled, and the player is marked as being on top of the platform.\n",
    "\n",
    "The code also logs messages to the console for debugging purposes.\n"
   ]
  },
  {
   "cell_type": "raw",
   "metadata": {
    "vscode": {
     "languageId": "javascript"
    }
   },
   "source": [
    "popcorn hack \n",
    "\n",
    "I want you guys to try to apply whatever you learnt from previous example to apply it to your game or platofrmer4x game "
   ]
  }
 ],
 "metadata": {
  "language_info": {
   "name": "python"
  }
 },
 "nbformat": 4,
 "nbformat_minor": 2
}
