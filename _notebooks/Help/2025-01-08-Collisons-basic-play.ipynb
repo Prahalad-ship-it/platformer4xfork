{
 "cells": [
  {
   "cell_type": "raw",
   "metadata": {
    "vscode": {
     "languageId": "raw"
    }
   },
   "source": [
    "---- \n",
    "layout: post\n",
    "title: Collisons \n",
    "description: Intro To Collisons and how can me apply them to a game\n",
    "toc: true\n",
    "categories: [Collisons]\n",
    "name: Srinaga Pillutla \n",
    "---\n",
    "\n",
    "\n"
   ]
  },
  {
   "cell_type": "raw",
   "metadata": {
    "vscode": {
     "languageId": "raw"
    }
   },
   "source": [
    "what is a collison? \n",
    "collisons are when two objects come in contact with each other. \n",
    "In the context of game development, collisons are used to detect when two objects come in contact with each other."
   ]
  },
  {
   "cell_type": "code",
   "execution_count": 6,
   "metadata": {
    "vscode": {
     "languageId": "javascript"
    }
   },
   "outputs": [
    {
     "data": {
      "text/html": [
       "if (collisionData.touchPoints.other.id === \"jumpPlatform\") {\n",
       "    // Collision with the left side of the Platform\n",
       "    console.log(\"id\");\n",
       "    if (collisionData.touchPoints.other.left && (topOfPlatform === true)) {\n",
       "        movement.right = false;\n",
       "        console.log(\"a\");\n",
       "    }\n",
       "    // Collision with the right side of the platform\n",
       "    if (collisionData.touchPoints.other.right && (topOfPlatform === true)) {\n",
       "        movement.left = false;\n",
       "        console.log(\"b\");\n",
       "    }\n",
       "    // Collision with the top of the player\n",
       "    if (collisionData.touchPoints.this.ontop) {\n",
       "        gravityEnabled = false;\n",
       "        console.log(\"c\");\n",
       "    }\n",
       "    if (collisionData.touchPoints.this.bottom) {\n",
       "        gravityEnabled = false;\n",
       "        console.log(\"d\");\n",
       "    }\n",
       "    if (collisionData.touchPoints.this.top) {\n",
       "        gravityEnabled = false;\n",
       "        topOfPlatform = true; \n",
       "        console.log(topOfPlatform + \"top\");\n",
       "        console.log(gravityEnabled + \"grav\");\n",
       "    }\n",
       "} \n"
      ],
      "text/plain": [
       "<IPython.core.display.HTML object>"
      ]
     },
     "metadata": {},
     "output_type": "display_data"
    }
   ],
   "source": [
    "%%html \n",
    "if (collisionData.touchPoints.other.id === \"jumpPlatform\") {\n",
    "    // Collision with the left side of the Platform\n",
    "    console.log(\"id\");\n",
    "    if (collisionData.touchPoints.other.left && (topOfPlatform === true)) {\n",
    "        movement.right = false;\n",
    "        console.log(\"a\");\n",
    "    }\n",
    "    // Collision with the right side of the platform\n",
    "    if (collisionData.touchPoints.other.right && (topOfPlatform === true)) {\n",
    "        movement.left = false;\n",
    "        console.log(\"b\");\n",
    "    }\n",
    "    // Collision with the top of the player\n",
    "    if (collisionData.touchPoints.this.ontop) {\n",
    "        gravityEnabled = false;\n",
    "        console.log(\"c\");\n",
    "    }\n",
    "    if (collisionData.touchPoints.this.bottom) {\n",
    "        gravityEnabled = false;\n",
    "        console.log(\"d\");\n",
    "    }\n",
    "    if (collisionData.touchPoints.this.top) {\n",
    "        gravityEnabled = false;\n",
    "        topOfPlatform = true; \n",
    "        console.log(topOfPlatform + \"top\");\n",
    "        console.log(gravityEnabled + \"grav\");\n",
    "    }\n",
    "} "
   ]
  },
  {
   "cell_type": "raw",
   "metadata": {
    "vscode": {
     "languageId": "raw"
    }
   },
   "source": [
    "what happens in the game when applied in the code\n",
    "When a collision is detected, the game can respond in different ways, such as changing the position of the objects, \n",
    "triggering an event, or causing damage to the objects involved in the collision.\n",
    "\n",
    "Logging \"id\": The code logs the string \"id\" to the console when a collision with the \"jumpPlatform\" is detected.\n",
    "\n",
    "Logging \"a\": The code logs the string \"a\" to the console when there is a collision with the left side of the platform and the player is on top of the platform.\n",
    "\n",
    "Logging \"b\": The code logs the string \"b\" to the console when there is a collision with the right side of the platform and the player is on top of the platform.\n",
    "\n",
    "Collision with the top of the player: If the player collides with something on top, gravity is disabled, and \"c\" is logged to the console.\n",
    "\n",
    "Collision with the bottom of the player: If the player collides with something at the bottom, gravity is disabled, and \"d\" is logged to the console.\n",
    "\n",
    "Collision with the top of the platform: If the player collides with the top of a platform, gravity is disabled, a flag indicating the player is on top of a platform is set to true, and the values of this flag and the gravity status are logged to the console."
   ]
  }
 ],
 "metadata": {
  "kernelspec": {
   "display_name": "venv",
   "language": "python",
   "name": "python3"
  },
  "language_info": {
   "codemirror_mode": {
    "name": "ipython",
    "version": 3
   },
   "file_extension": ".py",
   "mimetype": "text/x-python",
   "name": "python",
   "nbconvert_exporter": "python",
   "pygments_lexer": "ipython3",
   "version": "3.12.3"
  }
 },
 "nbformat": 4,
 "nbformat_minor": 2
}
